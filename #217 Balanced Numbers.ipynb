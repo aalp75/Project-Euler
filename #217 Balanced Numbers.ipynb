{
 "cells": [
  {
   "cell_type": "code",
   "execution_count": 1,
   "id": "5166d84b-37f0-479f-994d-4788dde85f60",
   "metadata": {},
   "outputs": [
    {
     "name": "stdout",
     "output_type": "stream",
     "text": [
      "Solution: 6273134\n"
     ]
    }
   ],
   "source": [
    "# Project Euler 217\n",
    "\n",
    "MOD = 3 ** 15\n",
    "\n",
    "N = 47\n",
    "max_sum_digit = (9 * N) // 2\n",
    "\n",
    "count = [[0 for i in range(max_sum_digit + 1)] for j in range(N + 1)]\n",
    "# count[i][j] = numbers of number with length less than i where the digits are summing to j\n",
    "\n",
    "count[0][0] = 1\n",
    "count[1][:10] = [1 for k in range(10)]\n",
    "\n",
    "for i in range(2, N + 1): # Loop on the length of numbers\n",
    "    for j in range(max_sum_digit + 1): # Loop on the value of the sum\n",
    "        for d in range(0, 10): # Loop on the 1st digit: 1 to 9\n",
    "            if j - d < 0:\n",
    "                break\n",
    "            # first digit is d then the last i - 1 numbers should sum to j - d\n",
    "            count[i][j] = (count[i][j] + count[i - 1][j - d]) % MOD\n",
    "\n",
    "dp_sum = [[0 for i in range(max_sum_digit + 1)] for j in range(N + 1)]\n",
    "# dp_sum[i][j] = sum of all numbers of size less than i with all digits summing to j\n",
    "\n",
    "dp_sum[1][:10] = [k for k in range(10)]\n",
    "\n",
    "for i in range(2, N + 1): # Loop on the length of numbers\n",
    "    p10 = 10 ** (i - 1) % MOD\n",
    "    for j in range(max_sum_digit + 1): # Loop on the value of the sum\n",
    "        dp_sum[i][j] = dp_sum[i - 1][j]\n",
    "        for d in range(1, 10): # Loop on the 1st digit: 1 to 9\n",
    "            if j - d < 0:\n",
    "                break\n",
    "            dp_sum[i][j] = (dp_sum[i][j] + d * p10 * count[i - 1][j - d] + dp_sum[i - 1][j - d]) % MOD\n",
    "    \n",
    "sol = 45 # for the 1 digits\n",
    "\n",
    "for i in range(2, N + 1): # Loop on the length of numbers\n",
    "    half = i // 2\n",
    "    p10 = 10 ** (i - 1) % MOD\n",
    "    p10_half = 10 ** half % MOD\n",
    "    for j in range(max_sum_digit + 1): # Loop on the value of the sum\n",
    "        for d in range(1, 10): # Loop on the 1st digit\n",
    "            if j - d < 0:\n",
    "                break\n",
    "            if count[half - 1][j - d] == 0 or count[half][j] == 0:\n",
    "                continue\n",
    "            if i % 2 == 0: # if i is even\n",
    "                    sol = (sol + d * p10 * count[half - 1][j - d] * count[half][j]) % MOD\n",
    "                    sol = (sol + dp_sum[half - 1][j - d] * p10_half * count[half][j]) % MOD\n",
    "                    sol = (sol + dp_sum[half][j] * count[half - 1][j - d]) % MOD\n",
    "            else: # if i is odd\n",
    "                for d2 in range(0, 10): # Loop on the digit of the midle: 0 to 9\n",
    "                        sol = (sol + d * p10 * count[half - 1][j - d] * count[half][j]) % MOD\n",
    "                        sol = (sol + dp_sum[half - 1][j - d] * 10 * p10_half * count[half][j]) % MOD\n",
    "                        sol = (sol + d2 * p10_half * count[half - 1][j - d] * count[half][j]) % MOD\n",
    "                        sol = (sol + dp_sum[half][j] * count[half - 1][j - d]) % MOD\n",
    "\n",
    "print(\"Solution: %d\" %(sol))"
   ]
  }
 ],
 "metadata": {
  "kernelspec": {
   "display_name": "Python 3 (ipykernel)",
   "language": "python",
   "name": "python3"
  },
  "language_info": {
   "codemirror_mode": {
    "name": "ipython",
    "version": 3
   },
   "file_extension": ".py",
   "mimetype": "text/x-python",
   "name": "python",
   "nbconvert_exporter": "python",
   "pygments_lexer": "ipython3",
   "version": "3.11.9"
  }
 },
 "nbformat": 4,
 "nbformat_minor": 5
}
