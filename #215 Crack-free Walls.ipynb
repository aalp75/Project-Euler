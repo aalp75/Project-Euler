{
 "cells": [
  {
   "cell_type": "code",
   "execution_count": 125,
   "id": "eb56784d-023e-42ca-9d0f-bf21be2f2eb5",
   "metadata": {},
   "outputs": [],
   "source": [
    "import numpy as np"
   ]
  },
  {
   "cell_type": "code",
   "execution_count": 126,
   "id": "a3f345f4-cb01-478e-a059-52e59184c299",
   "metadata": {},
   "outputs": [],
   "source": [
    "# input\n",
    "N = 10 # floor\n",
    "global_size = 32 # width"
   ]
  },
  {
   "cell_type": "code",
   "execution_count": 127,
   "id": "744ed9f3-5c01-446c-837e-7128d9cb8608",
   "metadata": {},
   "outputs": [
    {
     "name": "stdout",
     "output_type": "stream",
     "text": [
      "806844323190414\n"
     ]
    }
   ],
   "source": [
    "all_lines = []\n",
    "\n",
    "# generate all possible combination\n",
    "def generate_line(curr_row, curr_size):\n",
    "    if curr_size > global_size:\n",
    "        return\n",
    "\n",
    "    if curr_size + 2 == global_size or curr_size + 3 == global_size:\n",
    "        all_lines.append(curr_row)\n",
    "        return\n",
    "    \n",
    "    if curr_size == 0:\n",
    "        last_pos = 0\n",
    "    else:\n",
    "        last_pos = curr_row[-1]\n",
    "\n",
    "    for v in [2, 3]: \n",
    "        generate_line(curr_row + [curr_size + v], curr_size + v)\n",
    "\n",
    "_ = generate_line([], 0)\n",
    "\n",
    "lines = len(all_lines)\n",
    "compatible = []\n",
    "\n",
    "# check the compatibility\n",
    "for i in range(lines):\n",
    "    curr_compatible = []\n",
    "    for j in range(lines):\n",
    "        if np.intersect1d(all_lines[i], all_lines[j]).size == 0:\n",
    "            curr_compatible.append(j)\n",
    "        else:\n",
    "            pass\n",
    "    compatible.append(curr_compatible)\n",
    "\n",
    "# count the solution using dynamic programming\n",
    "dp = np.zeros((N + 1, lines), dtype='int')\n",
    "dp[1] = np.ones(lines, dtype='int')\n",
    "\n",
    "for i in range(2, N + 1):\n",
    "    for j in range(lines):\n",
    "        for k in compatible[j]:\n",
    "            dp[i, j] += dp[i - 1, k]\n",
    "\n",
    "res = dp[N].sum()\n",
    "print(res)"
   ]
  }
 ],
 "metadata": {
  "kernelspec": {
   "display_name": "Python 3 (ipykernel)",
   "language": "python",
   "name": "python3"
  },
  "language_info": {
   "codemirror_mode": {
    "name": "ipython",
    "version": 3
   },
   "file_extension": ".py",
   "mimetype": "text/x-python",
   "name": "python",
   "nbconvert_exporter": "python",
   "pygments_lexer": "ipython3",
   "version": "3.11.7"
  }
 },
 "nbformat": 4,
 "nbformat_minor": 5
}
