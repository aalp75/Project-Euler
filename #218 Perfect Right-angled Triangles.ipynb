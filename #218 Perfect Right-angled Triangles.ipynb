{
 "cells": [
  {
   "cell_type": "code",
   "execution_count": 1,
   "id": "5dd0869f",
   "metadata": {},
   "outputs": [],
   "source": [
    "from math import gcd"
   ]
  },
  {
   "cell_type": "code",
   "execution_count": 2,
   "id": "c7120584",
   "metadata": {},
   "outputs": [
    {
     "name": "stdout",
     "output_type": "stream",
     "text": [
      "Solution: 0\n"
     ]
    }
   ],
   "source": [
    "# using the Euclid's formula to generate Pythagorean triples we get a=2mn, b=m*m-n*n, c=m*m-n*n\n",
    "# repplaying this logic on the fact that c is a perfect square so c^2=m^2-n^2 we get a close form for a*b with respect to\n",
    "# x and y that we can use the check the area condition of the triangle\n",
    "\n",
    "sol = 0\n",
    "for x in range(42):\n",
    "    for y in range(42):\n",
    "        rel = (x * x - y * y) * x * y * ((2 * x * y) ** 2 - (x * x - y * y) ** 2)\n",
    "        if rel % 42 != 0:\n",
    "            sol += 1\n",
    "print(\"Solution:\", sol)"
   ]
  },
  {
   "cell_type": "code",
   "execution_count": 3,
   "id": "9ebd11d4",
   "metadata": {},
   "outputs": [
    {
     "name": "stdout",
     "output_type": "stream",
     "text": [
      "(4, 3, 5)\n",
      "(6, 8, 10)\n",
      "(12, 5, 13)\n",
      "(8, 15, 17)\n",
      "(24, 7, 25)\n",
      "(10, 24, 26)\n",
      "(20, 21, 29)\n",
      "(30, 16, 34)\n",
      "(40, 9, 41)\n",
      "(12, 35, 37)\n",
      "(60, 11, 61)\n",
      "(14, 48, 50)\n",
      "(28, 45, 53)\n",
      "(42, 40, 58)\n",
      "(56, 33, 65)\n",
      "(70, 24, 74)\n",
      "(84, 13, 85)\n",
      "(16, 63, 65)\n",
      "(48, 55, 73)\n",
      "(80, 39, 89)\n",
      "(18, 80, 82)\n",
      "(36, 77, 85)\n",
      "(72, 65, 97)\n"
     ]
    }
   ],
   "source": [
    "# generate all primtive Pythagorean triples up to k\n",
    "\n",
    "k = 100\n",
    "\n",
    "count = 1\n",
    "for m in range(k):\n",
    "    for n in range(1, m):\n",
    "        c = m * m + n * n\n",
    "        if c > k:\n",
    "            break\n",
    "        if gcd(n, m) != 1:\n",
    "            continue\n",
    "        a = 2 * m * n\n",
    "        b = m * m - n * n\n",
    "        \n",
    "        count += 1\n",
    "        print(\"(%d, %d, %d)\" %(a, b, c))"
   ]
  }
 ],
 "metadata": {
  "kernelspec": {
   "display_name": "Python 3 (ipykernel)",
   "language": "python",
   "name": "python3"
  },
  "language_info": {
   "codemirror_mode": {
    "name": "ipython",
    "version": 3
   },
   "file_extension": ".py",
   "mimetype": "text/x-python",
   "name": "python",
   "nbconvert_exporter": "python",
   "pygments_lexer": "ipython3",
   "version": "3.9.7"
  }
 },
 "nbformat": 4,
 "nbformat_minor": 5
}
